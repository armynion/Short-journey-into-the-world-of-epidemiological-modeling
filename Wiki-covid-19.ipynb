{
 "cells": [
  {
   "cell_type": "markdown",
   "id": "3a70788e",
   "metadata": {},
   "source": [
    "\n",
    "<a id=\"top\"></a>\n",
    "# <div align=center>Rapport Final</div>"
   ]
  },
  {
   "cell_type": "markdown",
   "id": "0163f979",
   "metadata": {},
   "source": [
    "## <div align=center>Propagation de la Covid-19</div>"
   ]
  },
  {
   "cell_type": "markdown",
   "id": "aa5af98f",
   "metadata": {},
   "source": [
    "BRUNET Armand, COCHET Mélisse, NIERES Ian, PEYRIE Pierre-Angelo"
   ]
  },
  {
   "cell_type": "markdown",
   "id": "60a8007b",
   "metadata": {},
   "source": [
    "## Sommaire :"
   ]
  },
  {
   "cell_type": "markdown",
   "id": "45512dff",
   "metadata": {},
   "source": [
    "* [I.Introduction](#I.Introduction) \n",
    "* [II.Résolution des équations différentielles ordinaires](#II.Résolution-des-équations-différentielles-ordinaires)\n",
    " * [II.1.Démarche scientifique et méthodes numériques utilisées](#II.1.Démarche-scientifique-et-méthodes-numériques-utilisées)\n",
    "     * [II.1.a Modèle SIR](#II.1.a.Modèle-SIR)\n",
    "     * [II.1.b.Modèle SEIR](#II.1.b.Modèle-SEIR)\n",
    "     * [II.1.c.Modèle SEIAHR](#II.1.c.Modèle-SEIAHR)\n",
    "     * [II.1.d.Modèle SEIAHR au cours des saisons](#II.1.d.Modèle-SEIAHR-au-cours-des-saisons)\n",
    " * [II.2. Critique de notre travail](#II.2.Critique-de-notre-travail)\n",
    "     * [II.2.a.Vérifications du modèle SEIR](#II.2.a.Vérifications-du-modèle-SEIR)\n",
    "     * [II.2.b.Calcul du $I_{max}$](#II.2.b.Calcul-du-$I_{max}$)\n",
    "     * [II.2.c.Calcul du $S_{inf}$](#II.2.c.Calcul-du-$S_{inf}$)\n",
    "     * [II.2.d.Solution analytique de Harko](#II.2.d.Solution-analytique-de-Harko)\n",
    "* [III. Modèle stochastique de Gillespie](#III.Modèle-stochastique-de-Gillespie)\n",
    " * [III.1.Première approche avec SEIR](#III.1.Première-approche-avec-SEIR)\n",
    "     * [III.1.a.Présentation du modèle](#III.1.a.Présentation-du-modèle)\n",
    "     * [III.1.b. Analyse des résultats](#III.1.b.Analyse-des-résultats)\n",
    " * [III.2. Algorithme de Gillespie spatialisé](#III.2.Algorithme-de-Gillespie-spatialisé)\n",
    "     * [III.2.a.Présentation de la méthode](#III.2.a.Présentation-de-la-méthode)\n",
    "     * [III.2.b.Analyse et critique des résultats](#III.2.b.Analyse-et-critique-des-résultats)\n",
    "* [IV. Conclusion](#IV.-Conclusion)\n",
    "* [V. Bibliographie](#V.-Bibliographie)\n"
   ]
  },
  {
   "cell_type": "markdown",
   "id": "5a5397d9",
   "metadata": {},
   "source": [
    "##  I. Introduction\n",
    "<div style=\"text-align: right\">\n",
    "<a href=\"#top\">[Back to top]</a>\n",
    "</div>"
   ]
  },
  {
   "cell_type": "markdown",
   "id": "92f10ae6",
   "metadata": {},
   "source": [
    "Le sujet de notre groupe porte sur l’étude de la propagation de la COVID-19. C’est un sujet connu de tous qui a bouleversé notre quotidien pendant l’année 2020.  \n",
    "Le but est de se familiariser avec les modèles épidémiologiques compartimentaux et de les adapter à la COVID-19.  \n",
    "L'évolution des épidémies implique des parties de la population qui se trouvent dans divers états liés à l’évolution de la maladie. Les modèles « compartimentaux » permettent d’étudier cette propagation en représentant chaque état (par exemple, sain, infecté) par un compartiment distinct. Ces modèles reposent sur une analyse du nombre d’individus dans chaque état au fil du temps, et qui peuvent être entre autres résolu par un système d’équations différentielles ordinaires (EDO) ou par un modèle stochastique. \n"
   ]
  },
  {
   "cell_type": "markdown",
   "id": "b8da4cb9",
   "metadata": {},
   "source": [
    "## II.Résolution des équations différentielles ordinaires\n",
    "<div style=\"text-align: right\">\n",
    "<a href=\"#top\">[Back to top]</a>\n",
    "</div>"
   ]
  },
  {
   "cell_type": "markdown",
   "id": "6e6a1f8b",
   "metadata": {},
   "source": [
    "Pour commencer, nous devons choisir quels schémas de résolutions et quelles modélisations nous voulons exploiter. Pour simuler l'épidémie, nous avons utilisé des modèles compartimentaux, c'est-à-dire on divise la population en plusieurs catégories caractéristiques de la maladie. Après des discussions avec notre professeur référent, nous avons choisi de travailler sur deux schémas de résolutions différents. Pour cela, nous nous sommes séparés en deux sous-groupes. Un premier sous-groupe a décidé d’utiliser des schémas continus, directement en lien avec les connaissances acquises durant le P2I. L’autre sous-groupe a décidé de partir sur la méthode discrète de l'algorithme Gillespie qui n’a jamais été abordée durant le P2I."
   ]
  },
  {
   "cell_type": "markdown",
   "id": "892b986c",
   "metadata": {},
   "source": [
    "### II.1.Démarche scientifique et méthodes numériques utilisées\n",
    "<div style=\"text-align: right\">\n",
    "<a href=\"#top\">[Back to top]</a>\n",
    "</div>"
   ]
  },
  {
   "cell_type": "markdown",
   "id": "305efd39",
   "metadata": {},
   "source": [
    "### II.1.a.Modèle SIR\n",
    "<div style=\"text-align: right\">\n",
    "<a href=\"#top\">[Back to top]</a>\n",
    "</div>"
   ]
  },
  {
   "cell_type": "markdown",
   "id": "4c17a785",
   "metadata": {},
   "source": [
    "Dans un premier temps, il faut déterminer les différents compartiments. Pour simplifier le début de nos travaux, nous avons créé un modèle avec un nombre réduit de compartiments : un modèle SIR. Ce modèle divise donc la population en 3 compartiments : les personnes saines S(t), infectées I(t) et retirées R(t) (guéries et non-contaminables). Chaque compartiment représente une proportion de la population, la population totale valant 1. A partir de ces compartiments, des équations différentielles ont été établies. Celles-ci utilisent deux paramètres $\\beta$ et $\\gamma$ représentant respectivement le taux de transmission et le taux de guérison en proportion de personnes par jour (figure 1) :"
   ]
  },
  {
   "cell_type": "markdown",
   "id": "8d77e881",
   "metadata": {},
   "source": [
    "<img src=\"figure1_equa_diff_SIR.png\" alt=\"\" />"
   ]
  },
  {
   "cell_type": "markdown",
   "id": "05b5e47a",
   "metadata": {},
   "source": [
    "<div align=center>\n",
    "Figure 1 :  équations différentielles SIR\n",
    "<div>"
   ]
  },
  {
   "cell_type": "markdown",
   "id": "971aff62",
   "metadata": {},
   "source": [
    "Dans ces équations, nous remarquons le terme $\\beta S(t)I(t)$ qui correspond au \"nombre moyen de contacts\" entre les personnes saines et infectées multiplié par le taux de transmission, ce qui nous donne le nombre de nouveaux infectés à chaque pas de temps. Ces personnes sont donc retirées du compartiment des sains pour être ajoutées au compartiment des infectés. Le terme $\\gamma I(t)$  quant à lui correspond au nombre de malades qui se rétablissent à chaque pas de temps, ces personnes sont donc retirées du compartiment des infectés pour être ajoutées à celui des sains. "
   ]
  },
  {
   "cell_type": "markdown",
   "id": "7af7831f",
   "metadata": {},
   "source": [
    "Nous avons implémenté un premier schéma avec lequel nous sommes très familiers, Euler explicite. Celui-ci consiste à approximer chaque itération grâce à la relation suivante : $Y_{i+1}=Y_{i}+∆t*F(t_{i},Y_{i})$ [[1](#V.-Bibliographie)].  Les courbes que nous obtenions semblaient cohérentes. Ci-dessous l’exemple d’une courbe obtenue (figure 2)."
   ]
  },
  {
   "cell_type": "markdown",
   "id": "87686949",
   "metadata": {},
   "source": [
    "<img src=\"figure2_courbes_SIR.png\" alt=\"\" />"
   ]
  },
  {
   "cell_type": "markdown",
   "id": "9a2f7489",
   "metadata": {},
   "source": [
    "<div align=center>\n",
    "Figure 2 :  exemple de courbes obtenues avec Euler explicite en prenant $\\beta$ = 0.8, $\\gamma$ = 0.3, I0 (infectés au temps t = 0) = 0.3, avec une population totale de 1 (100%)\n",
    "<div>"
   ]
  },
  {
   "cell_type": "markdown",
   "id": "e53af247",
   "metadata": {},
   "source": [
    "### II.1.b.Modèle SEIR\n",
    "<div style=\"text-align: right\">\n",
    "<a href=\"#top\">[Back to top]</a>\n",
    "</div>"
   ]
  },
  {
   "cell_type": "markdown",
   "id": "d31259f2",
   "metadata": {},
   "source": [
    "Nous avons ensuite utilisé un modèle un peu plus complexe que le précédent, le modèle SEIR, dans lequel on rajoute un compartiment : les personnes infectées non-infectieuses E (en période d'incubation), qui permettent d’introduire le taux d’incubation $\\alpha$. De manière concrète, ce compartiment représente les personnes malades qui ne peuvent pas encore transmettre le virus. On prend aussi en compte la modification de la population totale avec un taux de natalité $\\upsilon$, un taux de mortalité $\\mu$ et un taux de surmortalité $\\mu$’ dû à la maladie. Les équations différentielles correspondantes sont les suivantes (figure 3) :"
   ]
  },
  {
   "cell_type": "markdown",
   "id": "62533441",
   "metadata": {},
   "source": [
    "<div>\n",
    "<img src=\"figure3-equa-diff-SIER.PNG\" width = \"300\" height = \"300\" align = \"center\" />\n",
    "</div>"
   ]
  },
  {
   "cell_type": "markdown",
   "id": "261e030c",
   "metadata": {},
   "source": [
    "<div align=center>\n",
    "figure 3 : système d'équations du modèle SEIR \n",
    "<div>"
   ]
  },
  {
   "cell_type": "markdown",
   "id": "23f88d8b",
   "metadata": {},
   "source": [
    "Dans le système d'équations, il y a toujours les termes $\\beta S(t)I(t)$ et $\\gamma I(t)$, ils correspondent à la même chose que pour le modèle SIR à la différence que le terme $\\beta S(t)I(t)$ n'est plus ajouté au compartiment des infectés mais à celui de la période d'incubation (compartiment E). Les termes contenant $\\mu$ correspondent aux décès qui sont dus à des causes autres que la maladie. Le terme $\\mu 'I(t)$ correspond quant à lui à la létalité de la maladie. On a aussi ajouté l'expression $\\upsilon N(t)$ qui correspond au nombre de naissances (avec N la population totale, c'est-à-dire S+E+I+R). Ces nouveaux nés sont ajoutés au compartiment des sains/susceptibles. Le terme $\\alpha E(t)$ symbolise le nombre de personnes en incubation devenant malades."
   ]
  },
  {
   "cell_type": "markdown",
   "id": "dbc56c8a",
   "metadata": {},
   "source": [
    "Les courbes que nous obtenons avec ce modèle SEIR et en utilisant le schéma d’Euler explicite sont\n",
    "représentées ci-dessous en figure 4."
   ]
  },
  {
   "cell_type": "markdown",
   "id": "7066df9b",
   "metadata": {},
   "source": [
    "<div>\n",
    "<img src=\"figure4-courbe_SIER.png\"/>\n",
    "</div>"
   ]
  },
  {
   "cell_type": "markdown",
   "id": "5d25a8a8",
   "metadata": {},
   "source": [
    "<div align=center>\n",
    "Figure 4 : exemple de courbes obtenues avec Euler explicite en prenant $\\beta$ = 0.9, $\\gamma$ = 0.3, I0 = 0.3, E0 = 0.5, $\\alpha$ = 0.9, $\\mu$ =\n",
    "0.3, $\\upsilon$ = 0.3, $\\mu’$ = 0.1\n",
    "\n",
    "<div>"
   ]
  },
  {
   "cell_type": "markdown",
   "id": "dc49894a",
   "metadata": {},
   "source": [
    "Nous avons implémenté le $\\theta$-schéma afin de pouvoir très facilement varier le schéma de résolution utilisé en fonction de la valeur du $\\theta$. Cela nous permet de tester des schémas explicites (schéma calculant un terme en utilisant le terme précédent : $Y_{i+1}=Y_{i}+∆t*F(t_{i},Y_{i})$) et implicites (schéma calculant un terme en utilisant le terme précédent et lui-même, exemple : $Y_{i+1}=Y_{i}+∆t*F(t_{i+1},Y_{i+1})$[[1](#V.-Bibliographie)]) afin de vérifier la stabilité du modèle et de les comparer entre eux. Cependant, la résolution d’un schéma implicite est plus complexe que celle d’un schéma explicite du fait que le terme que l’on cherche à calculer apparaît des deux côtés de l’équation. De plus, nous cherchons à résoudre des équations non-linéaires que l’on ne peut pas résoudre à la main. Nous avons donc choisi d’utiliser la stratégie du point fixe que nous avons étudié dans le module « schémas numérique » [[1](#V.-Bibliographie)]. Pour comparer les différentes résolutions, nous avons fait varier $\\theta$ entre ces valeurs extrêmes 0 et 1, pour nous permettre de tester un grand nombre de schémas de résolution. Ensuite, nous avons superposé les courbes sur une même figure en utilisant les mêmes conditions initiales. On voit ainsi ci-dessous que les courbes se superposent parfaitement (figure 5), on peut en déduire que le modèle est stable pour tous les $\\theta$ : "
   ]
  },
  {
   "cell_type": "markdown",
   "id": "339bb094",
   "metadata": {},
   "source": [
    "<div>\n",
    "<img src=\"figure5-courbe_superposition_theta_schema.png\"/>\n",
    "</div>"
   ]
  },
  {
   "cell_type": "markdown",
   "id": "f4304fa4",
   "metadata": {},
   "source": [
    "<div align=center>\n",
    "Figure 5 : superposition des courbes avec différents $\\theta$, $\\beta$ = 0.8, $\\gamma$ = 0, I0 = 0.2, E0 = 01, $\\alpha$ =1, $\\mu$ = 0.05, $\\upsilon$ =\n",
    "0.05, $\\mu’$ = 0\n",
    "<div>"
   ]
  },
  {
   "cell_type": "markdown",
   "id": "cb81ce80",
   "metadata": {},
   "source": [
    "Après avoir validé notre $\\theta$-schéma, nous avons voulu essayer de prendre en compte le paramètre de l’espace en créant plusieurs villes avec des caractéristiques différentes et pouvant intéragir entre elle. Le but est de pouvoir observer la propagation du covid avec un foyer à un endroit, ou l'effet d'un confinement localisé. Or, nous nous sommes très vite rendu compte que les équations différentielles n’étaient pas forcément adaptées à ce type de modélisation, car beaucoup de résolutions numériques sont nécessaires. En effet, plus on ajoute des villes, plus on ajoute des compartiments et donc on augmente considérablement le nombre de calculs à réaliser. De plus, mettre en contact les différents compartiments spatiaux pour simuler des interactions entre individus semble complexe avec les EDO. Cependant, nous avons décidé d’exploiter cet aspect dans l’autre partie de notre projet avec Gillespie, car la méthode de résolution est beaucoup plus adapté (voir [III.2. Algorithme de Gillespie spatialisé](#III.2.Algorithme-de-Gillespie-spatialisé)). "
   ]
  },
  {
   "cell_type": "markdown",
   "id": "d4a8e6bf",
   "metadata": {},
   "source": [
    "### II.1.c.Modèle SEIAHR\n",
    "<div style=\"text-align: right\">\n",
    "<a href=\"#top\">[Back to top]</a>\n",
    "</div>"
   ]
  },
  {
   "cell_type": "markdown",
   "id": "dad4dd83",
   "metadata": {},
   "source": [
    "Après avoir créé notre $\\theta$-schéma, nous avons décidé de complexifier notre modèle compartimental. Nous avons alors fabriqué de nouveaux compartiments pour créer un modèle SEIAHR (voir figure 6). Nous avons toujours les sains S, la période d'incubation E, ainsi que les rétablis R. Nous avons modifié le compartiment I du modèle SIER pour le rendre plus réaliste par rapport au covid. Il se divise alors en trois compartiments : un nouveau compartiment I correspondant aux infectés avec des symptômes, un compartiment A correspondant aux infectés sans symptômes (asymptomatiques) et enfin un compartiment H correspondant aux infectés développant des formes graves nécessitant une hospitalisation. \n",
    "\n",
    "Ces modifications requièrent l'introduction de nouveaux taux que nous allons détailler. Tout d'abord, le \"taux d’incubation\" $\\alpha$ a été partagé en $\\alpha_i$, $\\alpha_a$ et $\\alpha_h$ entre I,A et H avec des valeurs différentes qui vérifient $\\alpha_i$ + $\\alpha_a$ + $\\alpha_h$ = 1 et qui correspondent tous à des proportions de personnes. Le but de cette fragmentation est de reproduire la diffusion du virus conformément à la réalité. En effet, la proportion de personnes infectées et ayant des symptômes est plus élevée que celle des personnes infectées et hospitalisées. Ceci se traduit par $\\alpha_i$ > $\\alpha_h$. De plus, nous avons voulu contrôler le temps d'incubation. Ainsi, le compartiment tampon $E_f$ a été créé avec le temps d'incubation $inc$ homogène à l'inverse d'un temps. Les personnes présentes dans $E$ mettent un certain temps (correspondant au temps d'incubation) avant d'être envoyé dans le compartiment $E_f$ qui les répartit immédiatement dans les compartiments I,A et H (d'où $\\alpha_i$ + $\\alpha_a$ + $\\alpha_h$ = 1 pour vider entièrement le compartiment $E_f$). \n",
    "\n",
    "Nous avons également rajouté un taux de guérison pour les personnes hospitalisés $\\gamma_h$ pour traduire le fait que les patients hospitalisés mettent plus de temps à se remettre de la maladie que les patients infectés ou asymptomatiques : $\\gamma$ > $\\gamma_h$ (car $\\gamma$ et $\\gamma_h$ sont l'inverse d'un temps). Le taux $\\omega$ permet de faire le lien entre les sains et retirés pour modéliser le fait que l’immunité après l’infection ne dure qu’une certaine période après laquelle on redevient susceptible d’attraper le virus. Enfin, le paramètre $nb_{lits}$ représente les capacités hospitalières disponibles en France, et plus concrètement, la proportion de la population française maximale que l'on pourrait accueillir en hôpitaux. Ainsi, à partir du moment où le nombre de personnes hospitalisées dépasse les capacités disponibles, on rajoute une mortalité élevée $\\mu_h$ qui s'applique aux personnes qui ne peuvent plus être accueillies en hôpitaux. Nous avons alors pu écrire le système d'équations suivant (figure  7) :"
   ]
  },
  {
   "cell_type": "markdown",
   "id": "3a03bb3b",
   "metadata": {},
   "source": [
    "<div>\n",
    "<img src=\"figure6-schema-SEIAHR.PNG\" width = \"600\" height = \"400\" align = \"center\"/>\n",
    "</div>"
   ]
  },
  {
   "cell_type": "markdown",
   "id": "6dfb814d",
   "metadata": {},
   "source": [
    "<div align=center>\n",
    "Figure 6 : Schéma du modèle complexifié SEIAHR \n",
    "<div>"
   ]
  },
  {
   "cell_type": "markdown",
   "id": "3f4d658f",
   "metadata": {},
   "source": [
    "<div align=center>\n",
    "\\begin{cases}\n",
    "\\dfrac{dS(t)}{dt} = -\\beta S(t)\\times (I(t)+A(t)+E(t)) + \\upsilon N(t) - \\mu S(t) + \\omega R(t)\\\\\n",
    "\\dfrac{dE(t)}{dt} = \\beta S(t)\\times (I(t)+A(t)+E(t)) - \\mu E(t) - inc \\times E(t)\\\\\n",
    "\\dfrac{dE_f(t)}{dt} = inc \\times E(t)-(\\alpha_i + \\alpha_a + \\alpha_h) \\times E_f(t)\\\\\n",
    "\\dfrac{dI(t)}{dt} = \\alpha_i E_f(t) - \\gamma I(t) - \\mu I(t)\\\\\n",
    "\\dfrac{dA(t)}{dt} = \\alpha_a E_f(t) - \\gamma A(t) - \\mu A(t)\\\\\n",
    "\\dfrac{dH(t)}{dt} = \\alpha_h E_f(t) - \\gamma H(t) - \\mu_h (H(t)-nb_{lits}) - (\\mu' + \\mu) H(t) & \\quad \\text{when $H(t) > nb_{lits}$}\\\\\n",
    "\\dfrac{dH(t)}{dt} = \\alpha_h E_f(t) - \\gamma_h H(t) - (\\mu' + \\mu) H(t) & \\quad \\text{otherwise}\\\\\n",
    "\\dfrac{dR(t)}{dt} = \\gamma (A(t)+I(t)) + \\gamma_h H(t) - \\mu R(t) -\\omega R(t)\n",
    "\\end{cases}\n",
    "</div>"
   ]
  },
  {
   "cell_type": "markdown",
   "id": "65528d9c",
   "metadata": {},
   "source": [
    "<div align=center>\n",
    "Figure 7 : Système d'équations avec le modèle complexifié SEIAHR \n",
    "<div>"
   ]
  },
  {
   "cell_type": "markdown",
   "id": "64572069",
   "metadata": {},
   "source": [
    "Nous avons alors obtenu les courbes en figure 8 en utilisant le $\\theta$-schéma avec $\\theta$ = 0.5 (voir [II.2.Critique de notre travail](#II.2.Critique-de-notre-travail)). Nous avons voulu utiliser des taux se rapprochant le plus possible de la réalité. Pour rappel, R0 = $\\dfrac{\\beta}{\\gamma}$, représente le nombre moyen de nouveaux cas d’une maladie qu’une seule personne infectée et contagieuse va générer en moyenne dans une population sans aucune immunité. On choisit donc $\\beta$ = 0.3 et $\\gamma$ = 0.1 pour avoir R0 = 3. Le taux de guérison à l'hôpital doit être plus élevé que le taux de guérison des personnes non hospitalisées, d'où $\\gamma_h$ = 0.05. On a donc considéré que l'on mettait 20 jours pour se rétablir à l'hôpital contre 10 normalement. $\\alpha$ a été partagé entre les infectés selon $\\alpha_i$ = 0.64, les asymptomatiques selon $\\alpha_a$ = 0.34, et les hospitalisés selon $\\alpha_h$ = 0.02. Pour une modélisation en France, nous avons pris un taux de natalité $\\upsilon$ = 0.0028 et un taux de mortalité $\\mu$ = 0.0027. On rajoute une létalité $\\mu'$ = 0.015, et une surmortalité pour les personnes non hospitalisées ayant une forme grave $\\mu_h$ = 0.3. Ces taux de mortalité ont été choisis arbitrairement pour obtenir des courbes lisibles et cohérentes. On choisit 7 jours d'incubation, d'où $inc$ = 1/7, une durée de trois mois pour redevenir susceptible, d'où $\\omega$ = 1/100, et une capacité hospitalière $nb_{lits}$ = 0.0003 (valeur proche des capacités réelles actuelles en France). Les conditions initiales sont les suivantes : E0 = 0.01, I0 = 0, A0 = 0, H0 = 0 et aucune personne n'est initialement déjà guérie.    "
   ]
  },
  {
   "cell_type": "markdown",
   "id": "9afd8cdb",
   "metadata": {},
   "source": [
    "<div>\n",
    "<img src=\"figure-8-courbes-modèles-SEIAHR.png\"/>\n",
    "</div>"
   ]
  },
  {
   "cell_type": "markdown",
   "id": "803e4dfb",
   "metadata": {},
   "source": [
    "<div align=center>\n",
    "Figure 8 : Courbes obtenues avec le modèle complexifié SEIAHR \n",
    "<div>"
   ]
  },
  {
   "cell_type": "markdown",
   "id": "a5c9ab94",
   "metadata": {},
   "source": [
    "Les courbes sont plutôt cohérentes. En effet, on constate bien une différence de temps entre le pic des personnes en incubation et les personnes infectées (I+A) ainsi qu'avec les personnes hospitalisées (voir figure 9). On voit aussi une augmentation des sains et une diminution des rétablis vers 100 jours, ce qui fait écho au temps nécessaire pour redevenir sains/susceptibles. On voit aussi l'apparition de petits pics secondaires qui se rapprochent de la réalité avec les différentes vagues du Covid. Cependant, on n'arrive pas à obtenir de réelles vagues se répétant comme ce fut le cas lors de la pandémie."
   ]
  },
  {
   "cell_type": "markdown",
   "id": "c18b7acc",
   "metadata": {},
   "source": [
    "<div>\n",
    "<img src=\"figure9-hospitalisations_SEIAHR.png\"/>\n",
    "</div>"
   ]
  },
  {
   "cell_type": "markdown",
   "id": "b4b65f44",
   "metadata": {},
   "source": [
    "<div align=center>\n",
    "Figure 9 : Courbe des hospitalisations obtenue avec le modèle complexifié SEIAHR \n",
    "<div>"
   ]
  },
  {
   "cell_type": "markdown",
   "id": "589c8870",
   "metadata": {},
   "source": [
    "### II.1.d.Modèle SEIAHR au cours des saisons\n",
    "<div style=\"text-align: right\">\n",
    "<a href=\"#top\">[Back to top]</a>\n",
    "</div>"
   ]
  },
  {
   "cell_type": "markdown",
   "id": "deebf554",
   "metadata": {},
   "source": [
    "Pour faire apparaître des vagues et modéliser le phénomène de maladie saisonnière qu'est la Covid, nous avons décidé de modéliser l’épidémie au fil des saisons (voir figure 10). En effet, la transmission du virus peut être atténuée pendant la période estivale. Nous allons le traduire avec le $\\theta$-schéma en attribuant un taux de transmission différent pour chaque saison (tous les 90 jours la valeur de $\\beta $ change avec $\\beta_{hiver}$ > $\\beta_{printemps}$ = $\\beta_{automne}$ > $\\beta_{été}$). \n",
    "Le but était de voir des variations dans nos courbes. Cependant, il faut prendre du recul par rapport à ces résultats, car la modélisation sur une longue période n’est pas fiable. Il est impossible de prédire les réactions humaines avec la mise en place de confinement, les gestes barrières...  De plus, dans la réalité, l'influence des saisons sur la propagation de la Covid-19 est presque nulle en début d’épidémie due à la faible immunité collective. Par la suite, la population développe une résistance au virus et le rôle des saisons devient plus important. Cependant la différence entre $\\beta_{hiver}$ et $\\beta_{été}$ n'est pas non plus significative, car $\\beta$ est aussi lié au nombre de contacts et il y en a plus en été qu'en hiver.\n",
    "Pour cette simulation, nous avons repris les mêmes paramètres que précédemment.\n"
   ]
  },
  {
   "cell_type": "markdown",
   "id": "c74b9d50",
   "metadata": {},
   "source": [
    "<div>\n",
    "<img src=\"figure10-courbes-saison-1.png\"/>\n",
    "</div>"
   ]
  },
  {
   "cell_type": "markdown",
   "id": "bdf146b5",
   "metadata": {},
   "source": [
    "<div>\n",
    "<img src=\"figure-10-courbes-saisons-2.png\"/>\n",
    "</div>"
   ]
  },
  {
   "cell_type": "markdown",
   "id": "459b32e7",
   "metadata": {},
   "source": [
    "<div>\n",
    "<img src=\"figure10-courbes-saisons-3.png\"/>\n",
    "</div>"
   ]
  },
  {
   "cell_type": "markdown",
   "id": "1de441f6",
   "metadata": {},
   "source": [
    "<div align=center>\n",
    "Figure 10 : Courbes obtenues sur différentes saisons avec le modèle complexifié SEIAHR en commençant en automne (les barres verticales bleues délimitent les saisons)\n",
    "<div>"
   ]
  },
  {
   "cell_type": "markdown",
   "id": "caad73a5",
   "metadata": {},
   "source": [
    "Sur les courbes, on observe facilement une périodicité avec des vagues assez visibles qui se répètent. On atteint donc un régime stationnaire. Pour le vérifier, nous avons tracé le portrait de phase (dx/dt = f(x)) pour les infectés (figure 11) et les rétablis (figure 12). On obtient un motif qui se répéte et qui se superpose, donc nous observons bien une périodicité au cours des saisons. On peut reconnaître des variations présentes sur les courbes de la figure 10 telles que les boucles sur les portraits de phase."
   ]
  },
  {
   "cell_type": "markdown",
   "id": "e8aef1a5",
   "metadata": {},
   "source": [
    "<div>\n",
    "<img src=\"figure11-portrait-de-phase-en-I.png\"/>\n",
    "</div>"
   ]
  },
  {
   "cell_type": "markdown",
   "id": "11ea822d",
   "metadata": {},
   "source": [
    "<div align=center>\n",
    "Figure 11 : Portrait de phase des infectés sur différentes saisons avec une population presque constante\n",
    "<div>"
   ]
  },
  {
   "cell_type": "markdown",
   "id": "58607d45",
   "metadata": {},
   "source": [
    "<div>\n",
    "<img src=\"figure13-figure-portrait-de-phase-en-R.png\"/>\n",
    "</div>"
   ]
  },
  {
   "cell_type": "markdown",
   "id": "8046c729",
   "metadata": {},
   "source": [
    "<div align=center>\n",
    "Figure 12 : Portrait de phase des rétablis sur différentes saisons avec une population presque constante\n",
    "<div>"
   ]
  },
  {
   "cell_type": "markdown",
   "id": "53194a2a",
   "metadata": {},
   "source": [
    "Lorsque la population augmente au cours du temps, notamment avec un fort taux de natalité, on retrouve le même motif qui se répète donc une certaine périodicité, mais celui-ci grandit et se décale (figure 13)."
   ]
  },
  {
   "cell_type": "markdown",
   "id": "ba2fcab2",
   "metadata": {},
   "source": [
    "<div>\n",
    "<img src=\"figure12-portrait-de-phase-en-I-2.png\"/>\n",
    "</div>"
   ]
  },
  {
   "cell_type": "markdown",
   "id": "377f8593",
   "metadata": {},
   "source": [
    "<div align=center>\n",
    "Figure 13 : Portrait de phase sur différentes saisons avec une population qui augmente\n",
    "<div>"
   ]
  },
  {
   "cell_type": "markdown",
   "id": "8070cce7",
   "metadata": {},
   "source": [
    "Nous avons aussi voulu vérifier que l'on atteint bien le même régime stationnaire en modifiant les conditions initiales. Les courbes obtenues avec différentes proportions de sains et de retirés à t = 0 sont en figure 14. On voit qu'il y a superposition des courbes assez rapidement, donc le système est stable par rapport aux proportions initiales de sains et de retirés."
   ]
  },
  {
   "cell_type": "markdown",
   "id": "d06a9838",
   "metadata": {},
   "source": [
    "<div>\n",
    "<img src=\"figure14-courbes-périodicité-1.png\"/>\n",
    "</div>"
   ]
  },
  {
   "cell_type": "markdown",
   "id": "c27d9799",
   "metadata": {},
   "source": [
    "<div>\n",
    "<img src=\"figure14-courbes-périodicité2.png\"/>\n",
    "</div>"
   ]
  },
  {
   "cell_type": "markdown",
   "id": "fc222b50",
   "metadata": {},
   "source": [
    "<div align=center>\n",
    "Figure 14 : Courbes des sains et des rétablis sur différentes saisons avec différentes conditions initiales\n",
    "<div>"
   ]
  },
  {
   "cell_type": "markdown",
   "id": "fce0dbca",
   "metadata": {},
   "source": [
    "On peut aussi observer cette périodicité en tracant la courbe des sains en fonction des retirés, toujours avec différentes conditions initiales. On obtient le même motif qui se répéte (figure 15)."
   ]
  },
  {
   "cell_type": "markdown",
   "id": "08874e07",
   "metadata": {},
   "source": [
    "<div>\n",
    "<img src=\"figure15-sains-en-fonction-rétablis.png\"/>\n",
    "</div>"
   ]
  },
  {
   "cell_type": "markdown",
   "id": "991dc966",
   "metadata": {},
   "source": [
    "<div align=center>\n",
    "Figure 15 : Courbes des sains en fonction des rétablis sur différentes saisons avec différentes conditions initiales\n",
    "<div>"
   ]
  },
  {
   "cell_type": "markdown",
   "id": "0a986394",
   "metadata": {},
   "source": [
    "Les courbes qui n'appartiennent pas au motif sont liées au régime transitoire. "
   ]
  },
  {
   "cell_type": "markdown",
   "id": "7aa27e3e",
   "metadata": {},
   "source": [
    "### II.2.Critique de notre travail\n",
    "<div style=\"text-align: right\">\n",
    "<a href=\"#top\">[Back to top]</a>\n",
    "</div>"
   ]
  },
  {
   "cell_type": "markdown",
   "id": "f1030db7",
   "metadata": {},
   "source": [
    "Après avoir réalisé nos premières simulations, nous voulons savoir si notre schéma de résolution était correct. Cela ne veut pas forcément dire qu'il le soit par rapport à la réalité, car représenter la réalité peut s'avérer très complexe. Effectivement, il y a beaucoup de facteurs à prendre en compte pour modéliser la propagation réelle du Covid-19 : l'âge des personnes, les différents confinements, le respect des règles barrières, les différents taux qui varient dans le temps, les mutations... Nous voulons davantage savoir si nous pouvons nous ramener à une solution analytique calculable pour vérifier nos résultats. Les vérifications analytiques faites dans la suite ont été réalisées avec le modèle le plus simple, c'est-à-dire avec le modèle SIR ([II.1.a Modèle SIR](#II.1.a.Modèle-SIR)). Utiliser un modèle plus simple permet de réduire le nombre d'équations et leur complexité, ce qui nous permet de trouver plus facilement des solutions analytiques.   "
   ]
  },
  {
   "cell_type": "markdown",
   "id": "86309223",
   "metadata": {},
   "source": [
    "### II.2.a.Vérifications du modèle SEIR\n",
    "<div style=\"text-align: right\">\n",
    "<a href=\"#top\">[Back to top]</a>\n",
    "</div>"
   ]
  },
  {
   "cell_type": "markdown",
   "id": "48fdc354",
   "metadata": {},
   "source": [
    "Tout d'abord, la superposition des différentes courbes en fonction du $\\theta$ faite précédemment ([II.1.b Modèle SEIR](#II.1.b.Modèle-SEIR)) nous a donné une première validation de nos modèles.  \n",
    "Ensuite, nous avons pu comparer nos courbes à celles disponibles sur le site “image des mathématiques” [[2](#V.-Bibliographie)] puisqu’ils ont utilisé le même système d’équations que nous. On obtient des résultats similaires (figure 16). "
   ]
  },
  {
   "cell_type": "markdown",
   "id": "9f15ae9c",
   "metadata": {},
   "source": [
    "<div>\n",
    "<img src=\"figure16-comparaison-SIR.PNG\"/>\n",
    "</div>"
   ]
  },
  {
   "cell_type": "markdown",
   "id": "aebf724e",
   "metadata": {},
   "source": [
    "<div align=center>\n",
    "Figure 16 : Comparaison de nos courbes à droite avec une courbe tirée de l’article « Modélisation d’une épidémie » (Bayette, 2020) à gauche, avec les mêmes paramètres et le modèle SEIR\n",
    "<div>"
   ]
  },
  {
   "cell_type": "markdown",
   "id": "c6dc866f",
   "metadata": {},
   "source": [
    "### II.2.b.Calcul du $I_{max}$\n",
    "<div style=\"text-align: right\">\n",
    "<a href=\"#top\">[Back to top]</a>\n",
    "</div>"
   ]
  },
  {
   "cell_type": "markdown",
   "id": "cad8d99d",
   "metadata": {},
   "source": [
    "Cependant, cela n’est pas suffisant pour valider totalement nos modèles. Nous avons donc voulu vérifier nos résultats numériques en les comparant à des résultats analytiques. Or trouver une solution analytique à notre système est très complexe, même en simplifiant au maximum un modèle SIR. Mais nous avons tout de même trouvé une équation (figure 17) pour calculer le nombre maximal d’infectés dans un modèle SIR [[3](#V.-Bibliographie)]. Grâce à cette équation, nous pouvons valider davantage nos modèles même si nous ne pouvons pas être sûrs et certains de leur exactitude. Nous avons donc créé un code nous permettant de résoudre un modèle SIR avec le $\\theta$-schéma, en affichant pour un certain nombre de thêta, la valeur absolue de l’erreur du nombre d’infectés maximal commise par le modèle (figure 18).  "
   ]
  },
  {
   "cell_type": "markdown",
   "id": "c3ef9137",
   "metadata": {},
   "source": [
    "<div>\n",
    "<img src=\"figure17-calcul-Imax.PNG\" width = \"300\" height = \"300\" align = \"center\" />\n",
    "</div>"
   ]
  },
  {
   "cell_type": "markdown",
   "id": "e66c667d",
   "metadata": {},
   "source": [
    "<div align=center>\n",
    "Figure 17 : Equation du $I_{max}$, y correspond aux infectés et x aux sains \n",
    "<div>"
   ]
  },
  {
   "cell_type": "markdown",
   "id": "1211d12b",
   "metadata": {},
   "source": [
    "<div>\n",
    "<img src=\"figure18-erreur-Imax.png\"/>\n",
    "</div>"
   ]
  },
  {
   "cell_type": "markdown",
   "id": "07de640e",
   "metadata": {},
   "source": [
    "<div align=center>\n",
    "Figure 18 : Valeur absolue de l'erreur de $I_{max}$ en fonction de thêta avec un modèle SIR\n",
    "<div>"
   ]
  },
  {
   "cell_type": "markdown",
   "id": "019335dc",
   "metadata": {},
   "source": [
    "On observe donc que l’erreur est très petite, de l’ordre de $10^{-5}$, et que celle-ci est minimum pour une valeur de thêta de 0.5, qui correspond au schéma de Crank-Nicolson.  "
   ]
  },
  {
   "cell_type": "markdown",
   "id": "e02810fa",
   "metadata": {},
   "source": [
    "### II.2.c.Calcul du $S_{inf}$\n",
    "<div style=\"text-align: right\">\n",
    "<a href=\"#top\">[Back to top]</a>\n",
    "</div>"
   ]
  },
  {
   "cell_type": "markdown",
   "id": "a6eaf0d1",
   "metadata": {},
   "source": [
    "Ensuite, nous avons cherché un autre moyen de valider nos résultats. Nous avons alors trouvé une équation (figure 19) nous permettant de calculer la valeur du nombre de sains quand le temps tend vers l'infini (à la fin de la simulation pour la valeur numérique), noté $S_{inf}$ [[4](#V.-Bibliographie)]. Cette équation peut paraître simple, mais il n'est pas possible de la résoudre analytiquement, nous avons donc dû la résoudre numériquement en utilisant la bibliothèque fsolve de python."
   ]
  },
  {
   "cell_type": "markdown",
   "id": "4e234309",
   "metadata": {},
   "source": [
    "<div>\n",
    "<img src=\"figure19-Calcul-Sinf.PNG\"/>\n",
    "</div>"
   ]
  },
  {
   "cell_type": "markdown",
   "id": "cca5b35f",
   "metadata": {},
   "source": [
    "<div align=center>\n",
    "Figure 19 : équation permettant de trouver $S_{inf}$\n",
    "<div>"
   ]
  },
  {
   "cell_type": "markdown",
   "id": "54c6d591",
   "metadata": {},
   "source": [
    "Comme on l'a fait précédemment avec le nombre maximal d'infectés, nous avons cherché pour quel $\\theta$ la valeur de l'erreur entre le nombre de sains final modélisé et le nombre de sains final théorique était la plus petite. Nous avons pu obtenir deux courbes différentes en fonction des valeurs de $\\beta$ et de $\\gamma$ (figure 20)."
   ]
  },
  {
   "cell_type": "markdown",
   "id": "ae6a80c7",
   "metadata": {},
   "source": [
    "<div>\n",
    "<img src=\"figure20-erreur-Sinf1.png\" width = \"400\" height = \"300\" align = \"left\"/>\n",
    "<img src=\"figure20-erreur-Sinf2.png\" width = \"400\" height = \"300\" align = \"right\"/>\n",
    "</div>"
   ]
  },
  {
   "cell_type": "markdown",
   "id": "f8ff458c",
   "metadata": {},
   "source": [
    "<div align=center>\n",
    "Figure 20 : Courbes de la valeur absolue de l'erreur sur $S_{inf}$\n",
    "<div>"
   ]
  },
  {
   "cell_type": "markdown",
   "id": "1cc35a82",
   "metadata": {},
   "source": [
    "On constate que le sens de la courbe change en fonction des valeurs de $\\beta$ et de $\\gamma$. Ainsi, selon les valeurs de ces taux, le choix du $\\theta$ optimal pour avoir l'erreur la plus petite va changer. L'erreur reste tout de même faible (de l'ordre de $10^{-2}$), et il faut aussi garder à l'esprit qu'il peut y avoir une erreur dans le calcul de $S_{inf}$ théorique, car nous avons utilisé une méthode numérique pour résoudre l'équation. Cependant, on constate tout de même que la meilleure valeur de $\\theta$ reste 0.5 car elle nous permet d'éviter des erreurs situées aux deux extrêmes. "
   ]
  },
  {
   "cell_type": "markdown",
   "id": "587d5d2d",
   "metadata": {},
   "source": [
    "### II.2.d.Solution analytique de Harko\n",
    "<div style=\"text-align: right\">\n",
    "<a href=\"#top\">[Back to top]</a>\n",
    "</div>"
   ]
  },
  {
   "cell_type": "markdown",
   "id": "84b437fe",
   "metadata": {},
   "source": [
    "Enfin, nous avons trouvé une dernière méthode mise au point par Harko et ses coauteurs pour vérifier nos résultats [[5](#V.-Bibliographie)]. Cette dernière solution analytique (figure 21) nous permet de trouver la valeur théorique de certains points appartenant aux compartiments S,I,R. "
   ]
  },
  {
   "cell_type": "markdown",
   "id": "e0eda55e",
   "metadata": {},
   "source": [
    "<div>\n",
    "<img src=\"figure21-formules intégration numérique.PNG\" width = \"400\" height = \"400\" align = \"center\"/>\n",
    "</div>"
   ]
  },
  {
   "cell_type": "markdown",
   "id": "96a0d845",
   "metadata": {},
   "source": [
    "<div align=center>\n",
    "Figure 21 : équations permettant de trouver une solution analytique\n",
    "<div>"
   ]
  },
  {
   "cell_type": "markdown",
   "id": "fd3cc81c",
   "metadata": {},
   "source": [
    "Nous ne détaillerons pas la démonstration mathématique qui permet de retrouver ces équations, mais nous allons expliquer rapidement le principe. Pour résoudre analytiquement les équations originales et trouver ces nouvelles équations, il faut changer le paramètre du temps. On définit donc un \"nouveau temps\" u qui s'écoule dans un sens décroissant ( t = 0 correspond à u = 1 ). On définit le u final ($u_T$) comme le moment où il n'y a plus d'infectés, et donc le moment où l'épidémie est terminée. Pour calculer $u_T$, nous disposons donc de l'équation suivante :  "
   ]
  },
  {
   "cell_type": "markdown",
   "id": "1511dd83",
   "metadata": {},
   "source": [
    "<div align=center>\n",
    "$I(u_{T}) = 0  \\iff N - R(0) + \\rho * \\ln(u_{T}) -S(0)u_{T}$ = $0$"
   ]
  },
  {
   "cell_type": "markdown",
   "id": "1b2bf29b",
   "metadata": {},
   "source": [
    "Cette équation ne peut pas être résolue à la main et nous avons donc dû à nouveau utiliser la fonction fsolve disponible dans une bibliothèque python.\n",
    "Une fois $u_T$ déterminé, nous pouvons discrétiser u sachant que $u_T$<u<1 et que pour chacune des valeurs de u, nous pouvons déterminer facilement les valeurs théoriques de S, I et R. Cependant, ces valeurs de S, I, R dépendent de u et non pas du temps t utilisé dans nos simulations. Il faut donc retrouver les temps correspondants. Pour cela, il faut calculer l'intégrale présente dans la figure 21. Nous avons choisi d'utiliser une méthode numérique, la méthode de Simpson, car c'est une des méthodes les plus précises que nous connaissons. Nous avons alors pu obtenir les courbes d'erreurs suivantes (figure 22) :  "
   ]
  },
  {
   "cell_type": "markdown",
   "id": "db9d9484",
   "metadata": {},
   "source": [
    "<div>\n",
    "<img src=\"figure22-valeur absolue de l'erreur en fonction du tempstéléchargement.png\" width = \"400\" height = \"350\" align = \"center\"/>\n",
    "</div>"
   ]
  },
  {
   "cell_type": "markdown",
   "id": "be868517",
   "metadata": {},
   "source": [
    "<div align=center>\n",
    "Figure 22 : courbes des valeurs absolues de l'erreur pour theta = 0.5\n",
    "<div>"
   ]
  },
  {
   "cell_type": "markdown",
   "id": "a8a18536",
   "metadata": {},
   "source": [
    "On constate que les erreurs sont faibles pour les 3 compartiments, de l'ordre de $10^{-2}$ au maximum. Ensuite, nous avons cherché pour quelle valeur de $\\theta$ l'erreur était la plus petite. Pour cela, nous avons fait varier $\\theta$ et nous avons calculé pour chaque $\\theta$ la valeur moyenne de l'erreur des trois compartiments. Nous avons alors obtenu les courbes suivantes (figure 23) : "
   ]
  },
  {
   "cell_type": "markdown",
   "id": "e8f58b9a",
   "metadata": {},
   "source": [
    "<div>\n",
    "<img src=\"figure23-valeur-moyenne-de-lerreur.png\" width = \"400\" height = \"350\" align = \"center\"/>\n",
    "</div>"
   ]
  },
  {
   "cell_type": "markdown",
   "id": "e7571ffc",
   "metadata": {},
   "source": [
    "<div align=center>\n",
    "Figure 23 : courbes des valeurs moyennes de l'erreur en fonction de $\\theta$.\n",
    "<div>"
   ]
  },
  {
   "cell_type": "markdown",
   "id": "9f5241a1",
   "metadata": {},
   "source": [
    "De nouveau, on observe que l'erreur moyenne minimale pour les trois compartiments est obtenue avec $\\theta$ = 0.5. Cependant, les valeurs d'erreurs que l'on obtient ne sont pas exactes, car on fait un certain nombre d'erreurs pour chaque calcul lors de la résolution numérique de l'intégrale, lors du calcul du logarithme népérien, ainsi que pour $u_T$. Comme le calcul de S,I,R analytique dépend des conditions initiales et non pas du terme précédent, on accumule pas les erreurs. Mais cela nous permet d'avoir une bonne idée de l'ordre de grandeur de l'erreur. "
   ]
  },
  {
   "cell_type": "markdown",
   "id": "95834f4f",
   "metadata": {},
   "source": [
    "Au vu des différentes vérifications, on constate que les erreurs de notre méthode de résolution par rapport aux solutions théoriques sont faibles, et minimisées pour $\\theta$ = 0.5. On a donc validé notre $\\theta$-schéma."
   ]
  },
  {
   "cell_type": "markdown",
   "id": "b1aa477f",
   "metadata": {},
   "source": [
    "## III.Modèle stochastique de Gillespie\n",
    "<div style=\"text-align: right\">\n",
    "<a href=\"#top\">[Back to top]</a>\n",
    "</div>"
   ]
  },
  {
   "cell_type": "markdown",
   "id": "828798d1",
   "metadata": {},
   "source": [
    "### III.1.Première approche avec SEIR\n",
    "<div style=\"text-align: right\">\n",
    "<a href=\"#top\">[Back to top]</a>\n",
    "</div>"
   ]
  },
  {
   "cell_type": "markdown",
   "id": "764a9bfa",
   "metadata": {},
   "source": [
    "### III.1.a.Présentation du modèle\n",
    "<div style=\"text-align: right\">\n",
    "<a href=\"#top\">[Back to top]</a>\n",
    "</div>"
   ]
  },
  {
   "cell_type": "markdown",
   "id": "32017577",
   "metadata": {},
   "source": [
    "Le système étudié est complexe de nature, puisqu’il est influencé par le développement de micro-organismes selon certaines conditions. Au sein d’un sujet infecté, ce développement peut lui-même être influencé par les conditions de vie du sujet (santé, météorologie…). Ensuite, il est nécessaire de considérer la contamination interindividuelle, qui peut aussi être impactée par de multiples facteurs. Il y a donc deux difficultés principales qui rendent impossible l’étude de toutes les interactions : la quantité très importante de facteurs et la variation d’échelle entre les phénomènes microscopiques et macroscopiques."
   ]
  },
  {
   "cell_type": "markdown",
   "id": "03e2ce5e",
   "metadata": {},
   "source": [
    "Une hypothèse faite pour toute la suite est que les organismes réagissent tous de manière similaire au virus, on observe donc uniquement les phénomènes macroscopiques en considérant des paramètres généraux de la maladie. Ensuite on décide d’adopter une méthode stochastique pour s’affranchir d’un nombre trop important d’interactions. En effet, l’introduction d’une part de hasard permet de limiter les interactions modélisées et de considérer celles qui ne sont pas traitées comme un bruit déterminé par une distribution de probabilité postulée. Ainsi on verra par la suite que cette variabilité du résultat pour des paramètres initiaux fixés permet de gérer l’incertitude sur les résultats."
   ]
  },
  {
   "cell_type": "markdown",
   "id": "f3e3706b",
   "metadata": {},
   "source": [
    "Contrairement à la méthode par résolution d’EDO, on décide de considérer les transitions inter-compartimentales comme des évènements discrets. Cela revient à appliquer un processus de Markov. Dans un tel processus, le calcul de l’évènement à venir n’est pas rendu plus précis par les évènements précédents. Cette approche permet de mieux se conformer au système qu’avec une utilisation d’équations continues car les variables du système n’évoluent pas de manière continue comme on pourrait le souhaiter dans le cas d’un problème de mécanique générale par exemple."
   ]
  },
  {
   "cell_type": "markdown",
   "id": "9b6aca9e",
   "metadata": {},
   "source": [
    " Ainsi les compartiments du modèle épidémiologique sont maintenant considérés comme des variables aléatoires discrètes qui sont munies d’une fonction de probabilité, on parle de chaine de Markov. [[6](#V.-Bibliographie)] On peut montrer dans le cas des modèles SIR et SEIR que la fonction de probabilité définit les transitions grâce à des taux qui dépendent des paramètres $\\alpha$, $\\beta$, $\\gamma$ correspondants respectivement à l’incubation, la transmission et la guérison.[[3](#V.-Bibliographie)] On ajoute aussi des taux de natalité et de mortalité, ainsi qu’un taux de surmortalité dû à la maladie : $\\mu’$, $\\mu$, $\\nu$. Les taux sont définis comme suit :"
   ]
  },
  {
   "cell_type": "markdown",
   "id": "3510c716",
   "metadata": {},
   "source": [
    "<div align=center>\n",
    "\\begin{cases}\n",
    "\\text{Transmission} :\\beta \\dfrac{S I}{(S+E+I+R)}\\\\\n",
    "\\text{Fin de l’incubation} : \\alpha E\\\\\n",
    "\\text{Rémission} : \\gamma I\\\\\n",
    "\\text{Naissance} : \\mu’ (S+E+I+R)\\\\\n",
    "\\text{Mort Sain} : \\mu S\\\\\n",
    "\\text{Mort Exposé} : \\mu E\\\\\n",
    "\\text{Mort Retiré} : \\mu R\\\\\n",
    "\\text{Mort Infecté} : (\\mu+\\nu) R\\\\\n",
    "\\end{cases}\n",
    "</div>\n",
    "\n"
   ]
  },
  {
   "cell_type": "markdown",
   "id": "30f7ef11",
   "metadata": {},
   "source": [
    "Puisque l’algorithme fonctionne à partir d’une succession événements discrets dans le temps, il faut donc connaitre la date du prochain évènement. La date du prochain évènement est calculé en tirant un saut dans le temps aléatoire suivant une loi de probabilité. Par définition, les évènements sont successifs et ne dépendent pas du temps (on dit que le phénomène est sans mémoire). A partir de ces propriétés, il a été démontré[[7](#V.-Bibliographie)] que le tirage du pas de temps suit une loi exponentielle dont la densité de probabilité de X est définie par : $f(dt)=λe^{-dtλ} ∀ dt≥0$  avec $λ=\\dfrac{1}{E(X)}$  le paramètre (ou intensité) de la loi exponentielle.\n",
    "\n",
    " Le saut dans le temps $dt$ est calculé en utilisant la réciproque de la loi exponentielle paramétrée par la somme des taux $St$ et dont la variable est un nombre aléatoire X suivant une loi uniforme entre 0 et 1 :  $dt= -\\frac{1}{St} ln⁡(X)$[[8](#V.-Bibliographie)]\n",
    " \n",
    " On voit donc que plus la somme des taux est grande, c’est-à-dire plus il y a de potentielles infections et guérisons, plus le $dt$ est petit, reflétant l’intensité de la situation. Inversement, le $dt$ grandira quand l’intensité est plus faible. Cet algorithme est donc pratique car il adapte le pas de temps aux besoins de la simulation ce qui permet de gagner en efficacité. \n"
   ]
  },
  {
   "cell_type": "markdown",
   "id": "13ba4f99",
   "metadata": {},
   "source": [
    "L’avantage principal de l’algorithme de Gillespie par rapport aux équations différentielles ordinaires est qu’il manipule des effectifs entiers individus qui subissent des évènements à un temps donné, ce qui permet de se rapprocher de la réalité. De plus, contrairement aux EDO, il est possible d’obtenir une extinction complète avec le dernier individu qui passe dans la catégorie des guéris. Bien que les deux algorithmes soient différents, le résultat de la simulation par Gillespie tend vers celui des EDO quand le nombre d’individus de la population augmente et que les effets de l’aléatoire sont lissés. \n",
    "L’inconvénient du modèle de Gillespie par rapport aux EDO est que le temps de calcul augmente linéairement en fonction de la population. Si on multiplie par 10 la population, alors le temps de calcule sera dix fois plus long. \n"
   ]
  },
  {
   "cell_type": "markdown",
   "id": "0cabb29e",
   "metadata": {},
   "source": [
    "<div>\n",
    "<img src=\"figure24-Build your own Gillespie algorithm (Github).png\" width = \"300\" height = \"88\" align = \"center\"/>\n",
    "</div>"
   ]
  },
  {
   "cell_type": "markdown",
   "id": "f1efdbf1",
   "metadata": {},
   "source": [
    "<div align=center>\n",
    "Figure 24 : Résumé de l’algorithme avec $X_{j}$ compartiments du modèle, $h_{i}$ paramètres du modèle et $a_{i}$ les poids calculés pour chaque évènement \n",
    "<div>"
   ]
  },
  {
   "cell_type": "markdown",
   "id": "3d7cc223",
   "metadata": {},
   "source": [
    "### III.1.b.Analyse des résultats\n",
    "<div style=\"text-align: right\">\n",
    "<a href=\"#top\">[Back to top]</a>\n",
    "</div>"
   ]
  },
  {
   "cell_type": "markdown",
   "id": "dc68dcdf",
   "metadata": {},
   "source": [
    "Tout d’abord, il semble que la volonté d’ajouter du bruit par une implémentation stochastique est satisfaite, puisqu’en exécutant l’algorithme un grand nombre de fois, on obtient une enveloppe qui représente la précision à chaque instant du modèle (figure 25). Cela permet d’évaluer les instants les plus critiques lorsqu’il s’agit d’obtenir un résultat quantitatif. De plus, on constate l’influence de l’effectif initial considéré pour la population : une quantité faible donne une variabilité importante et réciproquement. Cela n’est pas étonnant puisque les variations dépendent d’une loi de probabilité uniforme, donc l'augmentation de l'effectif fait tendre les résultats vers cette valeur de probabilité."
   ]
  },
  {
   "cell_type": "markdown",
   "id": "c6f821cf",
   "metadata": {},
   "source": [
    "<div>\n",
    "<img src=\"figure25-comparaison EDO-Gill N égal à 100.png\" width = \"600\" height = \"150\"/>\n",
    "<img src=\"figure25-comparaison EDO-Gill N égal à 1000.png\" width = \"600\" height = \"150\"/> \n",
    "<img src=\"figure25-comparaison EDO-Gill N égal à 5000.png\" width = \"600\" height = \"150\"/> \n",
    "</div>"
   ]
  },
  {
   "cell_type": "markdown",
   "id": "07e85806",
   "metadata": {},
   "source": [
    "<div align=center>\n",
    "Figure 25 : Superposition de 10000 éxécutions de l'algorithme pour une population de 100, 1000 puis 5000 individus.\n",
    "<div>"
   ]
  },
  {
   "cell_type": "markdown",
   "id": "b32ca634",
   "metadata": {},
   "source": [
    "Afin de valider notre modèle, nous avons décidé de comparer les résultats obtenus par résolution d’EDO et algorithme de Gillespie. On décide donc de maximiser la taille de la population initiale pour tendre vers une solution unique (figure 26). On paramètre chaque modèle de manière identique."
   ]
  },
  {
   "cell_type": "markdown",
   "id": "4a0297ce",
   "metadata": {},
   "source": [
    "<div>\n",
    "<img src=\"figure26-fitting EDO-Gill N égal à 100000.png\" width = \"700\" height = \"400\" align = \"center\"/>\n",
    "</div>"
   ]
  },
  {
   "cell_type": "markdown",
   "id": "384f270e",
   "metadata": {},
   "source": [
    "<div align=center>\n",
    "Figure 26 : Comparaison entre le résultat obtenu par EDO (noir) et Gillespie (couleurs) pour une paramétrisation identique\n",
    "<div>"
   ]
  },
  {
   "cell_type": "markdown",
   "id": "c6746a13",
   "metadata": {},
   "source": [
    "On constate que la superposition est quasiment totale. Les deux méthodes étant radicalement différentes, ce résultat nous permet d’affirmer que les deux implémentations sont conformes au modèle établi. Cela prouve aussi qu’une solution par Gillespie tend vers le résultat donné par les EDO lorsque N devient grand."
   ]
  },
  {
   "cell_type": "markdown",
   "id": "f028145e",
   "metadata": {},
   "source": [
    "Le premier défaut de cet algorithme, par rapport à l’implémentation d’un schéma telle que décrite précédemment, est le traitement des données après calcul. La difficulté vient du fait que le pas de temps ne soit pas constant. Ceci a pour conséquence d’exclure les méthodes classiques d’étude du résultat (comme l’intégration par la méthode de Simpson, par exemple)."
   ]
  },
  {
   "cell_type": "markdown",
   "id": "5612e803",
   "metadata": {},
   "source": [
    "Ensuite, le fait que deux approches différentes nous donnent le même résultat n’implique pas que ce résultat soit correct, car le modèle lui-même peut être biaisé. D’ailleurs, le modèle SEIR choisi ici demeure très théorique et requiert la formulation d’hypothèses fortes. Par exemple, on ne considère pas les différences de réaction à l’infection ou de potentiel de contamination en fonction de l’âge des individus. On ne prend pas en compte la mobilité des individus qui semble importante pour l’étude dynamique du virus."
   ]
  },
  {
   "cell_type": "markdown",
   "id": "b81bde0a",
   "metadata": {},
   "source": [
    "Le dernier point qui vient d’être évoqué semble important pour nous, c’est pourquoi nous avons décidé d’ajouter une composante spatiale au modèle. La principale motivation de ce choix est la possibilité d’évaluer l’impact de certaines mesures restrictives (confinement, gestes barrière…) sur la propagation de l’épidémie."
   ]
  },
  {
   "cell_type": "markdown",
   "id": "66ad47a4",
   "metadata": {},
   "source": [
    "### III.2.Algorithme de Gillespie spatialisé\n",
    "<div style=\"text-align: right\">\n",
    "<a href=\"#top\">[Back to top]</a>\n",
    "</div>"
   ]
  },
  {
   "cell_type": "markdown",
   "id": "6c07f4e5",
   "metadata": {},
   "source": [
    "### III.2.a.Présentation de la méthode\n",
    "<div style=\"text-align: right\">\n",
    "<a href=\"#top\">[Back to top]</a>\n",
    "</div>"
   ]
  },
  {
   "cell_type": "markdown",
   "id": "8b30f844",
   "metadata": {},
   "source": [
    "On considère maintenant les déplacements de populations, cela signifie que l’on se place dans un espace à deux dimensions. On choisit plus précisément une grille carrée comportant un nombre $D$ de cases. Toute case contient un effectif initial égal aux autres et supérieur à 1000 individus (cf [III.1.b Analyse des résultats](#III.1.b.Analyse-des-résultats)). Chaque case est définie comme un objet dont les attributs sont les effectifs de chaque compartiment du modèle. Nous décidons d‘utiliser le modèle SIR simple puisque nous calculons maintenant un nombre $D^2$ d'itérations du modèle (pour chaque case de la grille), nous ne pouvons pas multiplier les compartiments sans augmenter rapidement le temps de calcul. Il est maintenant possible de constater l’évolution de l’algorithme en introduisant des variations d’effectifs dues aux déplacements entre les cases."
   ]
  },
  {
   "cell_type": "markdown",
   "id": "e0fac23e",
   "metadata": {},
   "source": [
    "L’évolution du système est étudiée à partir d’une situation où l’effectif contaminé initial est petit et peu dispersé. On débute à un instant initial tel que $T=0$ jusqu’à un temps final $T_{f}$ (compté en jours). Le déplacement est défini comme un échange d’une part de l’effectif de chaque case avec l’une de ses voisines. La population est déplacée à toute heure, c’est-à-dire que l’on exécute l’algorithme de Gillespie sur toutes les cases jusqu’à ce que chacune ait atteint le temps $\\dfrac{1}{24}$, puis on déplace les individus. Cela signifie qu’il y aura $24T_{f}$ pas de temps globaux pour le déplacement."
   ]
  },
  {
   "cell_type": "markdown",
   "id": "1c7e8f21",
   "metadata": {},
   "source": [
    "Pour simuler le déplacement, on tire un nombre d’individus selon une loi uniforme entre 0 et une proportion fixée de l’effectif de la case que l’on appellera facteur de transfert. Ensuite on tire aléatoirement le compartiment auquel on retire un individu pour chaque individu quittant la case en pondérant les probabilités par l’effectif des compartiments. Puis on tire aléatoirement la case qui recevra ce nombre d’individus parmi les 8 cases directement voisines (haut, bas, gauche, droite et diagonales, dans le cas général)."
   ]
  },
  {
   "cell_type": "markdown",
   "id": "f59e03eb",
   "metadata": {},
   "source": [
    "Le résultat est conforme à nos attentes, puisqu'on observe bien une propagation. D'ailleurs on comprend bien l'utilisation du terme de vague ici (figure 27).(Les créneaux sur les figures sont dus au fait que l’on représente une valeur par jour, ce qui rend le résultat plus facilement comparable à des données réelles.)"
   ]
  },
  {
   "cell_type": "markdown",
   "id": "1fa8d327",
   "metadata": {},
   "source": [
    "<div>\n",
    "<img src=\"figure27-démo_spatialisé.gif\" width = \"500\" height = \"500\" align = \"left\"/>\n",
    "<img src=\"figure27-courbe_inf.gif\" width = \"450\" height = \"450\" align = \"right\"/>\n",
    "<img src=\"figure27-courbe_inf_tot.gif\" width = \"450\" height = \"450\" align = \"right\"/>\n",
    "\n",
    "</div>"
   ]
  },
  {
   "cell_type": "markdown",
   "id": "1e6ac737",
   "metadata": {},
   "source": [
    "<div align=center>\n",
    "Figure 27 : Infection relative pour $\\beta = 2$, $\\gamma = 0.1$ et 100 infectés initialement situés au centre de la grille\n",
    "<div>"
   ]
  },
  {
   "cell_type": "markdown",
   "id": "47cd79d0",
   "metadata": {},
   "source": [
    "Il est intéressant de noter que l'effectif cumulé d'infectés évolue en fonction du temps selon une sigmoïde. Cette forme caractéristique d'une croissance épidémique peut être utilisée lors de l'ajustement des paramètres du modèle pour concorder avec des données réelles (fitting)[[9](#V.-Bibliographie)]."
   ]
  },
  {
   "cell_type": "markdown",
   "id": "ad41a35c",
   "metadata": {},
   "source": [
    "L’objectif de la spatialisation de l’algorithme de Gillespie est de pouvoir implémenter des mesures de confinement et d’étudier leurs efficacités. Pour implémenter le confinement, nous avons simplement ajouté trois compartiments contenant respectivement les sains, infectés et retirés confinés. Les individus appartenant à ces compartiments ne peuvent pas se déplacer et les sains et infectés confinés ne sont pas pris en compte dans le calcul du taux d’infection (les infectés confinés sont comptés dans le calcul du taux de guérison). Les personnes confinées ne peuvent pas se faire infecter et ne peuvent pas répandre la maladie.\n",
    "\n",
    "Nous avons implémenté un confinement individuel et un confinement général. Avec le confinement individuel, qui est actif par défaut, seuls les individus infectés se confinent selon un pourcentage de respect de ce confinement. A chaque infection, la personne a par exemple 50% de chance de se confiner. Pour prendre en compte le fait qu’il y ait des personnes asymptomatiques, donc qui ne se confinent pas, et qu’une personne touchée par le COVID-19 est infectieuse avant que des symptômes ne se déclarent et qu’il y ait des personnes qui ne respectent pas le confinement, nous avons évalué de façon arbitraire que le pourcentage de respect du confinement individuel est faible (environ 30%). \n",
    "\n",
    "Le confinement général se déclenche lorsque que le pourcentage de la population infecté dépasse un seuil prédéfini. Tous les compartiments sont confinés selon un pourcentage de respect. Par exemple, si le pourcentage de respect est de 60%, alors 60% des personnes de chaque compartiment sont confinées. Le confinement général remplace le confinement individuel, donc le compartiment des infectés se comporte comme les autres. Quand le pourcentage d'infectés passe un autre seuil inférieur au premier, le confinement générale prend fin et le confinement individuel est de nouveau actif."
   ]
  },
  {
   "cell_type": "markdown",
   "id": "4cfc3848",
   "metadata": {},
   "source": [
    "### III.2.b.Analyse et critique des résultats\n",
    "<div style=\"text-align: right\">\n",
    "<a href=\"#top\">[Back to top]</a>\n",
    "</div>"
   ]
  },
  {
   "cell_type": "markdown",
   "id": "bed7513c",
   "metadata": {},
   "source": [
    "Le premier critère de validation de notre modèle serait de comparer qualitativement les résultats à ceux obtenus sans spatialisation. Cette démarche nous permet de nous conforter sur la solidité de notre méthode si les résultats sont proches, ou bien de mettre en valeur des différences qu’il faudra expliquer pour valider ou invalider le modèle. On se limite d’abord à $T_{f} = 40$ jours pour pouvoir négliger le fait de redevenir susceptible après qu’une immunité apportée par la contamination soit expirée."
   ]
  },
  {
   "cell_type": "markdown",
   "id": "1a118624",
   "metadata": {},
   "source": [
    "Premièrement, il semble que l’évolution de la quantité d’infectés dépende du facteur de transfert, cela semble tout à fait logique puisque le déplacement impacte directement les rencontres entre individus donc les contaminations. On constate aussi qu’une augmentation du facteur de transfert entraine une augmentation de la valeur du pic. La durée à laquelle le pic est atteint est réduite lorsque le facteur de transfert augmente (figure 28)."
   ]
  },
  {
   "cell_type": "markdown",
   "id": "ac7aee87",
   "metadata": {},
   "source": [
    "<div>\n",
    "<img src=\"figure28-comparaison pour différents facteurs transfert.png\" width = \"900\" height = \"600\"/>\n",
    "</div>"
   ]
  },
  {
   "cell_type": "markdown",
   "id": "4c8edc4d",
   "metadata": {},
   "source": [
    "<div align=center>\n",
    "Figure 28 : Comparaison de l'évolution du nombre de personnes infectées par jour pour différents facteurs de transfert\n",
    "<div>"
   ]
  },
  {
   "cell_type": "markdown",
   "id": "1cd726e6",
   "metadata": {},
   "source": [
    "Pour autant, il ne serait pas cohérent d’avoir un facteur de transfert trop important, puisqu’il représente la proportion d’individus se déplaçant à chaque heure. D’ailleurs, lorsqu’il augmente trop (autour de 0.5), la tendance à se rapprocher du résultat sans spatialisation est perdue. On se propose donc de déterminer un facteur de transfert qui donne un pic de contamination le plus proche possible de la solution sans spatialisation (figure 29)."
   ]
  },
  {
   "cell_type": "markdown",
   "id": "0b479de1",
   "metadata": {},
   "source": [
    "<div>\n",
    "<img src=\"figure29-ecart_min_fonction_de_facteur.png\" width = \"700\" height = \"400\" align = \"center\"/>\n",
    "</div>"
   ]
  },
  {
   "cell_type": "markdown",
   "id": "a3faffba",
   "metadata": {},
   "source": [
    "<div align=center>\n",
    "Figure 29 : Valeur de l'écart entre les pics d'infectés avec et sans spatialisation en fonction du facteur de transfert\n",
    "<div>"
   ]
  },
  {
   "cell_type": "markdown",
   "id": "c95c0ec8",
   "metadata": {},
   "source": [
    "On trouve que le facteur de transfert minimal est autour de 0.36, ce qui confirme l'observation faite sur la figure 28. Cependant, il aurait été préférable de pouvoir réitérer le calcul afin de déterminer la meilleure valeur statistiquement. On aurait aussi pu évaluer la norme euclidienne entre les courbes sur toute la plage de valeurs. Il y a deux difficultés pour cette étude: la première est la multiplication d'un temps de calcul déjà long (15 à 20 minutes pour la figure 29), la seconde a été évoquée précédemment; le pas de temps n'étant pas le même entre deux simulations, on ne peut pas comparer les valeurs en ordonnée deux à deux pour chaque pas de temps."
   ]
  },
  {
   "cell_type": "markdown",
   "id": "446e83a8",
   "metadata": {},
   "source": [
    "Le facteur de transfert efficace étant déterminé, il s’agit maintenant d’observer l’impact d’un changement de dimensions pour la grille. L'augmentation de la dimension de la grille, à facteur de transfert donné retarde l'arrivée du pic épidémique et diminue son intensité relative. Le fait de retarder le pic semble évident, puisque la vague se propageant à une vitesse constante, doit parcourir une distance plus grande avant d'être maximale si la grille est plus grande. Le fait que l'intensité relative diminue lorsque la surface augmente est probablement du à des effets de bords, qui seront discutés ultérieurement."
   ]
  },
  {
   "cell_type": "markdown",
   "id": "19113594",
   "metadata": {},
   "source": [
    "<div>\n",
    "<img src=\"figure30-dim_map20.gif\" width = \"450\" height = \"450\" align = \"left\"/>\n",
    "<img src=\"figure30-dim_map30.gif\" width = \"450\" height = \"450\" align = \"right\"/>\n",
    "<img src=\"figure30-dim_map40.gif\" width = \"450\" height = \"450\" align = \"left\"/>\n",
    "<img src=\"figure30-dim_map50.gif\" width = \"450\" height = \"450\" align = \"right\"/>\n",
    "</div>"
   ]
  },
  {
   "cell_type": "markdown",
   "id": "a96cbddd",
   "metadata": {},
   "source": [
    "<div align=center>\n",
    "Figure 30 : Proportion d'infectés pour différentes grilles dont $D$ varie de 20 à 50 cases avec une paramétrisation identique (recharger la page si les animations sont désincronisées)\n",
    "<div>"
   ]
  },
  {
   "cell_type": "markdown",
   "id": "26fb7060",
   "metadata": {},
   "source": [
    "Passons maintenant aux effets du confinement. Le confinement individuel permet de ralentir l’épidémie donnant un pic d’infection plus tardif et une courbe des infections plus étalée. Le confinement général réduit grandement le pic des infections et créé un phénomène de vagues suivant les confinements et déconfinements successifs. Même avec ces deux confinements mis en place, tant que les pourcentages de respect des confinements ne sont pas assez hauts, la majorité de la population finie par être infectée avant l’extinction de l’épidémie."
   ]
  },
  {
   "cell_type": "markdown",
   "id": "22f8eab9",
   "metadata": {},
   "source": [
    "<div>\n",
    "<img src=\"figure31-infectés_spatialisé.gif\" width = \"500\" height = \"500\" align = \"left\"/>\n",
    "<img src=\"figure31-courbe_infectés_spatialisé.gif\" width = \"450\" height = \"450\" align = \"right\"/>\n",
    "<img src=\"figure31-plt-3599.png\" width = \"450\" height = \"450\" align = \"right\"/>    \n",
    "</div>"
   ]
  },
  {
   "cell_type": "markdown",
   "id": "fc463539",
   "metadata": {},
   "source": [
    "<div align=center>\n",
    "Figure 31 : Infection pour $D = 20$ avec $\\beta = 2$, $\\gamma = 0.1$ et confinement à 3% de la population infectée\n",
    "<div>"
   ]
  },
  {
   "cell_type": "markdown",
   "id": "a77a8671",
   "metadata": {},
   "source": [
    "Pour réaliser ces modèles nous avons fait un certain nombre de simplifications que l’on pourrait remettre en question afin d’améliorer le modèle. Nous avons utilisé l’approximation d’une distribution de la population uniforme dans l’espace ce qui ne correspond pas à la réalité. Pour corriger cela, il serait possible de créer des centres de populations plus denses que le reste. Ensuite, la population se déplace de façon aléatoire et uniforme dans toutes les directions. Il serait possible d’influencer la direction de déplacement vers par exemple certains centres attractifs. Nous avons aussi remarqué des effets de bords causés par le fait que les individus ont plus de chances de quitter un bord que d’y arriver, ce qui entraine une réduction de la population sur les bords de la grille.(figure 32)"
   ]
  },
  {
   "cell_type": "markdown",
   "id": "dc9a4bdb",
   "metadata": {},
   "source": [
    "<div>\n",
    "<img src=\"figure32_effets_de_bords.gif\"/>\n",
    "</div>\n",
    "\n"
   ]
  },
  {
   "cell_type": "markdown",
   "id": "3abd28c7",
   "metadata": {},
   "source": [
    "<div align=center>\n",
    "Figure 32 : Représentation de la population totale par cases et observations des effets de bords\n",
    "<div>"
   ]
  },
  {
   "cell_type": "markdown",
   "id": "8ff3a9b9",
   "metadata": {},
   "source": [
    "Pour une grille suffisamment grande, cet effet est négligeable donc nous avons choisi de ne pas le corriger. Les différents paramètres sont assez difficiles à calibrer (facteur de transferts, taux de respects des confinements, seuils du confinement général) car il est complexe d’estimer si les chiffres utilisés sont réalistes. De plus, le modèle SIR utilisé est très simple, car il n’y a pas de mortalité, pas d’incubation, pas d’asymptomatiques ou de formes graves. Enfin, une simulation prend beaucoup plus de temps qu’une simulation de Gillespie non spatialisé à population égale."
   ]
  },
  {
   "cell_type": "markdown",
   "id": "58d5f6be",
   "metadata": {},
   "source": [
    "## IV. Conclusion \n",
    "<div style=\"text-align: right\">\n",
    "<a href=\"#top\">[Back to top]</a>\n",
    "</div>"
   ]
  },
  {
   "cell_type": "markdown",
   "id": "dc69627f",
   "metadata": {},
   "source": [
    "Notre groupe a pu exploiter deux méthodes de résolution distinctes qui utilisent les probabilités ou les équations différentielles ordinaires pour décrire les évenements. Les deux méthodes ont des limites et des potentiels différents. En ce qui concerne les EDO, on manipule des quantités continues donc on parle de proportion de population et non pas de personnes, ce qui n’a pas toujours de sens. De plus, il est difficile de créer une notion d’espace, car on multiplierait le nombre de compartiments et donc la puissance de calculs nécessaires. Le plus raisonnable était donc de complexifier les compartiments pour se rapprocher de la réalité. Avec Gillespie, la méthode discrète nous permet de mieux gérer un petit nombre de population même s’il faut effectuer plusieurs fois les simulations pour pouvoir moyenner les résultats. Il était plus adapté pour prendre en compte le paramètre de l’espace. \n",
    "\n",
    "Les deux modèles se complétaient donc bien, l’un continue était bien adapté à un grand nombre d'individus, l’autre discret permet de mieux modéliser une petite population. Ceci doit être pris en compte en termes d’environnement pour limiter la puissance de calculs : utiliser Gillespie sur une grande population n’est pas optimisé. Cependant on s’est bien rendu compte qu’il était très difficile de simuler la Covid 19. En effet, il y a bien trop de paramètres à prendre en compte entre les décisions politiques, l’âge des individus, le respect des confinements, les mutations … C’est d’ailleurs pour ces raisons que les modèles durant la crise dépassaient rarement les 15 jours. Au-delà, les simulations devenaient plus des scénarios que de véritables prédictions. \n",
    "\n",
    "La suite logique du projet EDO serait de complexifier un peu plus les compartiments pour se rapprocher davantage de cas réels, dans le but de pouvoir calibrer le modèle avec de réelles courbes et d’améliorer le modèle.  \n",
    "Pour aller plus loin avec la spatialisation, Il faudrait implémenter une distribution de la population inégale ainsi que complexifier les règles de déplacements. On pourrait aussi envisager d'utiliser un modèle plus complexe comme SEIAHR.\n"
   ]
  },
  {
   "cell_type": "markdown",
   "id": "6acbcced",
   "metadata": {},
   "source": [
    "## V. Bibliographie\n",
    "<div style=\"text-align: right\">\n",
    "<a href=\"#top\">[Back to top]</a>\n",
    "</div>"
   ]
  },
  {
   "cell_type": "markdown",
   "id": "2f71c233",
   "metadata": {},
   "source": [
    "```{bibliography}\n",
    "```\n",
    "* [1]  Camille Carvalho, Nicolas Fillot, Voichita Maxim, & Shihe Xin, Schémas numériques pour les équations différentielles et aux dérivées partielles, Insa Lyon.\n",
    "* [2] Bayette, Modélisation d’une épidémie partie 1 [en ligne], 30 mars 2020. Disponible sur :  [https://images.math.cnrs.fr/Modelisation-d-une-epidemie-partie-1.html](https://images.math.cnrs.fr/Modelisation-d-une-epidemie-partie-1.html) (Consulté le 07/06/2023).\n",
    "* [3]  Nicolas De Ro, Le modèle SIR : analyse déterministe et stochastique, mai 2021. Téléchargeable sur [https://www.researchgate.net/publication/355165308_Le_Modele_SIR_Analyse_Deterministe_et_Stochastique](https://www.researchgate.net/publication/355165308_Le_Modele_SIR_Analyse_Deterministe_et_Stochastique).\n",
    "* [4]  Beaujean, P, Modéliser une épidémie [en ligne], 28 février 2022. Disponible sur : [https://zestedesavoir.com/tutoriels/3790/modeliser-une-epidemie/#2-approche-deterministe-modeliser-et-comprendre](https://zestedesavoir.com/tutoriels/3790/modeliser-une-epidemie/#2-approche-deterministe-modeliser-et-comprendre) (Consulté le 08/06/2023).\n",
    "* [5]  Wikipedia contributors, Compartmental models in epidemiology [en ligne], 2022. Disponible sur : [https://en.wikipedia.org/wiki/Compartmental_models_in_epidemiology#The_SIR_model_without_vital_dynamics](https://en.wikipedia.org/wiki/Compartmental_models_in_epidemiology#The_SIR_model_without_vital_dynamics) (Consulté le 07/06/2023).\n",
    "* [6]  Wikipedia contributors, Processus de Markov [en ligne], 2008. Disponible sur : [https://fr.wikipedia.org/wiki/Processus_de_Markov](https://fr.wikipedia.org/wiki/Processus_de_Markov) (Consulté le 07/06/2023).\n",
    "* [7]  Wikipedia contributor, Loi exponentielle [en ligne], 2008. Disponible sur : [https://fr.wikipedia.org/wiki/Loi_exponentielle](https://fr.wikipedia.org/wiki/Loi_exponentielle)\n",
    "* [8]  Jun Chu,University of Maryland, College Park, Introduction to Gillespie’s Algorithm in Epidemiology [en ligne], 2012. Disponible sur : [http://drp.math.umd.edu/Project-Slides/ChuFall2012.pdf](http://drp.math.umd.edu/Project-Slides/ChuFall2012.pdf)\n",
    "* [9]  Maria Jardim Beira & Pedro José Sebastião, A differential equations model-fitting analysis of COVID-19 epidemiological data to explain multi-wave dynamics [en ligne], 11 août 2021. Disponible sur : [https://www.nature.com/articles/s41598-021-95494-6](https://www.nature.com/articles/s41598-021-95494-6)"
   ]
  },
  {
   "cell_type": "code",
   "execution_count": null,
   "id": "0bfa1225",
   "metadata": {},
   "outputs": [],
   "source": []
  }
 ],
 "metadata": {
  "kernelspec": {
   "display_name": "Python 3",
   "language": "python",
   "name": "python3"
  },
  "language_info": {
   "codemirror_mode": {
    "name": "ipython",
    "version": 3
   },
   "file_extension": ".py",
   "mimetype": "text/x-python",
   "name": "python",
   "nbconvert_exporter": "python",
   "pygments_lexer": "ipython3",
   "version": "3.8.8"
  }
 },
 "nbformat": 4,
 "nbformat_minor": 5
}
